{
 "cells": [
  {
   "cell_type": "code",
   "execution_count": 13,
   "id": "0121f11f-8810-4789-a110-a151b0ab1603",
   "metadata": {},
   "outputs": [],
   "source": [
    "import os\n",
    "import numpy as np\n",
    "import pandas as pd\n",
    "\n",
    "LOG_CSV = \"data/pred_log.csv\"\n",
    "TZ = \"Europe/Dublin\""
   ]
  },
  {
   "cell_type": "code",
   "execution_count": 2,
   "id": "fcc7fe8c-d061-47b7-a047-c661b30bd38a",
   "metadata": {},
   "outputs": [],
   "source": [
    "df = pd.read_csv(LOG_CSV)"
   ]
  },
  {
   "cell_type": "code",
   "execution_count": 3,
   "id": "3a0d6416-847b-475a-a22c-b62d919c02a8",
   "metadata": {},
   "outputs": [
    {
     "data": {
      "text/html": [
       "<div>\n",
       "<style scoped>\n",
       "    .dataframe tbody tr th:only-of-type {\n",
       "        vertical-align: middle;\n",
       "    }\n",
       "\n",
       "    .dataframe tbody tr th {\n",
       "        vertical-align: top;\n",
       "    }\n",
       "\n",
       "    .dataframe thead th {\n",
       "        text-align: right;\n",
       "    }\n",
       "</style>\n",
       "<table border=\"1\" class=\"dataframe\">\n",
       "  <thead>\n",
       "    <tr style=\"text-align: right;\">\n",
       "      <th></th>\n",
       "      <th>date</th>\n",
       "      <th>yhat</th>\n",
       "      <th>tweeted_at</th>\n",
       "      <th>err_abs</th>\n",
       "      <th>actual</th>\n",
       "    </tr>\n",
       "  </thead>\n",
       "  <tbody>\n",
       "    <tr>\n",
       "      <th>0</th>\n",
       "      <td>2025-08-19</td>\n",
       "      <td>15.391441</td>\n",
       "      <td>2025-08-18 20:44:14.464306+01:00</td>\n",
       "      <td>6.0</td>\n",
       "      <td>21.0</td>\n",
       "    </tr>\n",
       "    <tr>\n",
       "      <th>1</th>\n",
       "      <td>2025-08-20</td>\n",
       "      <td>14.000000</td>\n",
       "      <td>2025-08-19 20:53:24.762552+01:00</td>\n",
       "      <td>5.0</td>\n",
       "      <td>9.0</td>\n",
       "    </tr>\n",
       "    <tr>\n",
       "      <th>2</th>\n",
       "      <td>2025-08-21</td>\n",
       "      <td>13.000000</td>\n",
       "      <td>2025-08-20 13:35:15.607435+01:00</td>\n",
       "      <td>1.0</td>\n",
       "      <td>14.0</td>\n",
       "    </tr>\n",
       "    <tr>\n",
       "      <th>3</th>\n",
       "      <td>2025-08-22</td>\n",
       "      <td>15.000000</td>\n",
       "      <td>2025-08-21 14:43:55.525867+01:00</td>\n",
       "      <td>2.0</td>\n",
       "      <td>13.0</td>\n",
       "    </tr>\n",
       "    <tr>\n",
       "      <th>4</th>\n",
       "      <td>2025-08-25</td>\n",
       "      <td>10.000000</td>\n",
       "      <td>2025-08-24 15:26:13.716259+01:00</td>\n",
       "      <td>5.0</td>\n",
       "      <td>5.0</td>\n",
       "    </tr>\n",
       "  </tbody>\n",
       "</table>\n",
       "</div>"
      ],
      "text/plain": [
       "         date       yhat                        tweeted_at  err_abs  actual\n",
       "0  2025-08-19  15.391441  2025-08-18 20:44:14.464306+01:00      6.0    21.0\n",
       "1  2025-08-20  14.000000  2025-08-19 20:53:24.762552+01:00      5.0     9.0\n",
       "2  2025-08-21  13.000000  2025-08-20 13:35:15.607435+01:00      1.0    14.0\n",
       "3  2025-08-22  15.000000  2025-08-21 14:43:55.525867+01:00      2.0    13.0\n",
       "4  2025-08-25  10.000000  2025-08-24 15:26:13.716259+01:00      5.0     5.0"
      ]
     },
     "execution_count": 3,
     "metadata": {},
     "output_type": "execute_result"
    }
   ],
   "source": [
    "df.head()"
   ]
  },
  {
   "cell_type": "code",
   "execution_count": 4,
   "id": "5f25ca4a-c637-49f7-9ef6-57412952d38b",
   "metadata": {},
   "outputs": [
    {
     "data": {
      "text/html": [
       "<div>\n",
       "<style scoped>\n",
       "    .dataframe tbody tr th:only-of-type {\n",
       "        vertical-align: middle;\n",
       "    }\n",
       "\n",
       "    .dataframe tbody tr th {\n",
       "        vertical-align: top;\n",
       "    }\n",
       "\n",
       "    .dataframe thead th {\n",
       "        text-align: right;\n",
       "    }\n",
       "</style>\n",
       "<table border=\"1\" class=\"dataframe\">\n",
       "  <thead>\n",
       "    <tr style=\"text-align: right;\">\n",
       "      <th></th>\n",
       "      <th>date</th>\n",
       "      <th>yhat</th>\n",
       "      <th>tweeted_at</th>\n",
       "      <th>err_abs</th>\n",
       "      <th>actual</th>\n",
       "    </tr>\n",
       "  </thead>\n",
       "  <tbody>\n",
       "    <tr>\n",
       "      <th>0</th>\n",
       "      <td>2025-08-19</td>\n",
       "      <td>15.391441</td>\n",
       "      <td>2025-08-18 20:44:14.464306+01:00</td>\n",
       "      <td>6.0</td>\n",
       "      <td>21.0</td>\n",
       "    </tr>\n",
       "    <tr>\n",
       "      <th>1</th>\n",
       "      <td>2025-08-20</td>\n",
       "      <td>14.000000</td>\n",
       "      <td>2025-08-19 20:53:24.762552+01:00</td>\n",
       "      <td>5.0</td>\n",
       "      <td>9.0</td>\n",
       "    </tr>\n",
       "    <tr>\n",
       "      <th>2</th>\n",
       "      <td>2025-08-21</td>\n",
       "      <td>13.000000</td>\n",
       "      <td>2025-08-20 13:35:15.607435+01:00</td>\n",
       "      <td>1.0</td>\n",
       "      <td>14.0</td>\n",
       "    </tr>\n",
       "    <tr>\n",
       "      <th>3</th>\n",
       "      <td>2025-08-22</td>\n",
       "      <td>15.000000</td>\n",
       "      <td>2025-08-21 14:43:55.525867+01:00</td>\n",
       "      <td>2.0</td>\n",
       "      <td>13.0</td>\n",
       "    </tr>\n",
       "    <tr>\n",
       "      <th>4</th>\n",
       "      <td>2025-08-25</td>\n",
       "      <td>10.000000</td>\n",
       "      <td>2025-08-24 15:26:13.716259+01:00</td>\n",
       "      <td>5.0</td>\n",
       "      <td>5.0</td>\n",
       "    </tr>\n",
       "    <tr>\n",
       "      <th>5</th>\n",
       "      <td>2025-08-26</td>\n",
       "      <td>15.000000</td>\n",
       "      <td>2025-08-25 15:26:13.716259+01:00</td>\n",
       "      <td>7.0</td>\n",
       "      <td>22.0</td>\n",
       "    </tr>\n",
       "    <tr>\n",
       "      <th>6</th>\n",
       "      <td>2025-08-27</td>\n",
       "      <td>14.000000</td>\n",
       "      <td>2025-08-26 15:26:13.716259+01:00</td>\n",
       "      <td>2.0</td>\n",
       "      <td>16.0</td>\n",
       "    </tr>\n",
       "    <tr>\n",
       "      <th>7</th>\n",
       "      <td>2025-08-28</td>\n",
       "      <td>12.000000</td>\n",
       "      <td>2025-08-27 15:26:13.716259+01:00</td>\n",
       "      <td>1.0</td>\n",
       "      <td>13.0</td>\n",
       "    </tr>\n",
       "    <tr>\n",
       "      <th>8</th>\n",
       "      <td>2025-08-29</td>\n",
       "      <td>16.000000</td>\n",
       "      <td>2025-08-28 15:26:13.716259+01:00</td>\n",
       "      <td>4.0</td>\n",
       "      <td>20.0</td>\n",
       "    </tr>\n",
       "    <tr>\n",
       "      <th>9</th>\n",
       "      <td>2025-09-01</td>\n",
       "      <td>11.000000</td>\n",
       "      <td>2025-08-31 15:26:13.716259+01:00</td>\n",
       "      <td>2.0</td>\n",
       "      <td>9.0</td>\n",
       "    </tr>\n",
       "    <tr>\n",
       "      <th>10</th>\n",
       "      <td>2025-09-02</td>\n",
       "      <td>17.000000</td>\n",
       "      <td>2025-09-01 15:26:13.716259+01:00</td>\n",
       "      <td>NaN</td>\n",
       "      <td>NaN</td>\n",
       "    </tr>\n",
       "  </tbody>\n",
       "</table>\n",
       "</div>"
      ],
      "text/plain": [
       "          date       yhat                        tweeted_at  err_abs  actual\n",
       "0   2025-08-19  15.391441  2025-08-18 20:44:14.464306+01:00      6.0    21.0\n",
       "1   2025-08-20  14.000000  2025-08-19 20:53:24.762552+01:00      5.0     9.0\n",
       "2   2025-08-21  13.000000  2025-08-20 13:35:15.607435+01:00      1.0    14.0\n",
       "3   2025-08-22  15.000000  2025-08-21 14:43:55.525867+01:00      2.0    13.0\n",
       "4   2025-08-25  10.000000  2025-08-24 15:26:13.716259+01:00      5.0     5.0\n",
       "5   2025-08-26  15.000000  2025-08-25 15:26:13.716259+01:00      7.0    22.0\n",
       "6   2025-08-27  14.000000  2025-08-26 15:26:13.716259+01:00      2.0    16.0\n",
       "7   2025-08-28  12.000000  2025-08-27 15:26:13.716259+01:00      1.0    13.0\n",
       "8   2025-08-29  16.000000  2025-08-28 15:26:13.716259+01:00      4.0    20.0\n",
       "9   2025-09-01  11.000000  2025-08-31 15:26:13.716259+01:00      2.0     9.0\n",
       "10  2025-09-02  17.000000  2025-09-01 15:26:13.716259+01:00      NaN     NaN"
      ]
     },
     "execution_count": 4,
     "metadata": {},
     "output_type": "execute_result"
    }
   ],
   "source": [
    "df"
   ]
  },
  {
   "cell_type": "code",
   "execution_count": 18,
   "id": "ab91cd3d-7048-4f1c-87eb-3b908efe16ff",
   "metadata": {},
   "outputs": [],
   "source": [
    "counts=[9,36,25,22,15,27,12,12,18,8,23,16,12]\n",
    "preds=[15,14,16,11,21,19,15,17,10,17,16,13]\n",
    "dates=[\"2025-09-02\",\"2025-09-03\",\"2025-09-04\",\"2025-09-05\",\"2025-09-08\",\"2025-09-09\",\"2025-09-10\",\"2025-09-11\",\"2025-09-12\",\"2025-09-15\",\"2025-09-16\",\"2025-09-17\",\"2025-09-18\"]"
   ]
  },
  {
   "cell_type": "code",
   "execution_count": 19,
   "id": "49281ef5-1d92-46d3-bfe3-ec3dcbeeaed7",
   "metadata": {},
   "outputs": [
    {
     "data": {
      "text/plain": [
       "13"
      ]
     },
     "execution_count": 19,
     "metadata": {},
     "output_type": "execute_result"
    }
   ],
   "source": [
    "len(preds)"
   ]
  },
  {
   "cell_type": "code",
   "execution_count": 20,
   "id": "f6d0256d-b373-4980-9c02-9a3aea8baf43",
   "metadata": {},
   "outputs": [
    {
     "name": "stdout",
     "output_type": "stream",
     "text": [
      "Updated through: 2025-09-18 Rows: 23\n",
      "         date  yhat                       tweeted_at  err_abs  actual\n",
      "13 2025-09-05  11.0 2025-09-04 15:26:13.716259+01:00     11.0    22.0\n",
      "14 2025-09-08  21.0 2025-09-07 15:26:13.716259+01:00      6.0    15.0\n",
      "15 2025-09-09  19.0 2025-09-08 15:26:13.716259+01:00      8.0    27.0\n",
      "16 2025-09-10  15.0 2025-09-09 15:26:13.716259+01:00      3.0    12.0\n",
      "17 2025-09-11  17.0 2025-09-10 15:26:13.716259+01:00      5.0    12.0\n",
      "18 2025-09-12  10.0 2025-09-11 15:26:13.716259+01:00      8.0    18.0\n",
      "19 2025-09-15  17.0 2025-09-14 15:26:13.716259+01:00      9.0     8.0\n",
      "20 2025-09-16  16.0 2025-09-15 15:26:13.716259+01:00      7.0    23.0\n",
      "21 2025-09-17  13.0 2025-09-16 15:26:13.716259+01:00      3.0    16.0\n",
      "22 2025-09-18  18.0 2025-09-17 15:26:13.716259+01:00      6.0    12.0\n"
     ]
    }
   ],
   "source": [
    "log = pd.read_csv(LOG_CSV, parse_dates=[\"date\",\"tweeted_at\"], on_bad_lines=\"skip\")\n",
    "for c in [\"yhat\",\"err_abs\",\"actual\"]:\n",
    "    if c not in log.columns: log[c] = np.nan\n",
    "log[\"date\"] = pd.to_datetime(log[\"date\"], errors=\"coerce\").dt.normalize()\n",
    "log[\"tweeted_at\"] = pd.to_datetime(log[\"tweeted_at\"], errors=\"coerce\")\n",
    "\n",
    "if log[\"tweeted_at\"].notna().any():\n",
    "    ref_ts = log.loc[log[\"tweeted_at\"].notna(), \"tweeted_at\"].iloc[-1]\n",
    "    ref_time = (ref_ts.tz_convert(TZ) if ref_ts.tzinfo else ref_ts.tz_localize(TZ)).time()\n",
    "else:\n",
    "    ref_time = pd.Timestamp(\"17:00\").time()\n",
    "\n",
    "def tweeted_at_for(date_ts: pd.Timestamp) -> pd.Timestamp:\n",
    "    base = pd.Timestamp(date_ts.date())\n",
    "    local_dt = pd.Timestamp.combine(base, ref_time).tz_localize(TZ) - pd.Timedelta(days=1)\n",
    "    return local_dt\n",
    "\n",
    "records = {\n",
    "    pd.to_datetime(d).normalize(): (int(a), float(y))\n",
    "    for d, a, y in zip(dates, counts, preds)\n",
    "}\n",
    "idx_by_date = {d.normalize(): i for i, d in enumerate(log[\"date\"])}\n",
    "\n",
    "for d, (actual, yhat) in records.items():\n",
    "    if d in idx_by_date:\n",
    "        i = idx_by_date[d]\n",
    "        log.loc[i, \"yhat\"] = yhat\n",
    "        log.loc[i, \"actual\"] = actual\n",
    "        log.loc[i, \"err_abs\"] = abs(actual - yhat)\n",
    "        if pd.isna(log.loc[i, \"tweeted_at\"]):\n",
    "            log.loc[i, \"tweeted_at\"] = tweeted_at_for(d)\n",
    "    else:\n",
    "        log = pd.concat([log, pd.DataFrame([{\n",
    "            \"date\": d,\n",
    "            \"yhat\": yhat,\n",
    "            \"tweeted_at\": tweeted_at_for(d),\n",
    "            \"err_abs\": abs(actual - yhat),\n",
    "            \"actual\": float(actual),\n",
    "        }])], ignore_index=True)\n",
    "\n",
    "log = log.sort_values(\"date\").reset_index(drop=True)\n",
    "\n",
    "# atomic write\n",
    "tmp = LOG_CSV + \".tmp\"\n",
    "log.to_csv(tmp, index=False)\n",
    "os.replace(tmp, LOG_CSV)\n",
    "\n",
    "print(\"Updated through:\", max(records.keys()).date(), \"Rows:\", len(log))\n",
    "print(log.tail(10))"
   ]
  },
  {
   "cell_type": "code",
   "execution_count": 16,
   "id": "8f9b4d84-21bc-44dc-a87f-70d8d3f138fe",
   "metadata": {},
   "outputs": [
    {
     "data": {
      "text/plain": [
       "'data/pred_log.csv.tmp'"
      ]
     },
     "execution_count": 16,
     "metadata": {},
     "output_type": "execute_result"
    }
   ],
   "source": [
    "tmp"
   ]
  },
  {
   "cell_type": "code",
   "execution_count": null,
   "id": "935f594a-dc26-44e8-aace-9eb892c9a5cf",
   "metadata": {},
   "outputs": [],
   "source": []
  }
 ],
 "metadata": {
  "kernelspec": {
   "display_name": "Python 3 (ipykernel)",
   "language": "python",
   "name": "python3"
  },
  "language_info": {
   "codemirror_mode": {
    "name": "ipython",
    "version": 3
   },
   "file_extension": ".py",
   "mimetype": "text/x-python",
   "name": "python",
   "nbconvert_exporter": "python",
   "pygments_lexer": "ipython3",
   "version": "3.11.1"
  }
 },
 "nbformat": 4,
 "nbformat_minor": 5
}
